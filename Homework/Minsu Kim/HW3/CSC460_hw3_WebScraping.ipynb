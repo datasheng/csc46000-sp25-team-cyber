{
  "nbformat": 4,
  "nbformat_minor": 0,
  "metadata": {
    "colab": {
      "provenance": []
    },
    "kernelspec": {
      "name": "python3",
      "display_name": "Python 3"
    },
    "language_info": {
      "name": "python"
    }
  },
  "cells": [
    {
      "cell_type": "code",
      "execution_count": 12,
      "metadata": {
        "colab": {
          "base_uri": "https://localhost:8080/"
        },
        "id": "IPt_nDBP6Mzw",
        "outputId": "ae3680b2-a0c5-4ba3-88fb-bd8d13afcc6c"
      },
      "outputs": [
        {
          "output_type": "stream",
          "name": "stdout",
          "text": [
            "                 dow      text\n",
            "date                          \n",
            "2022-01-01  Saturday  Saturday\n"
          ]
        }
      ],
      "source": [
        "import requests\n",
        "from bs4 import BeautifulSoup\n",
        "import pandas as pd\n",
        "from datetime import datetime\n",
        "\n",
        "# URL of the CUNY Fall 2021 academic calendar\n",
        "url = 'https://www.ccny.cuny.edu/registrar/fall'\n",
        "\n",
        "# Send a GET request to the URL\n",
        "response = requests.get(url)\n",
        "\n",
        "# Parse the HTML content using BeautifulSoup\n",
        "soup = BeautifulSoup(response.content, 'html.parser')\n",
        "\n",
        "# Find the table containing the academic calendar\n",
        "table = soup.find('table')\n",
        "\n",
        "# Initialize a list to store valid rows\n",
        "data = []\n",
        "\n",
        "# Process table rows with proper validation\n",
        "for row in table.find_all('tr'):\n",
        "    cells = row.find_all('td')\n",
        "    if len(cells) >= 2:\n",
        "        date_str = cells[0].get_text(strip=True)\n",
        "        description = cells[1].get_text(strip=True)\n",
        "        try:\n",
        "            # Parse the date\n",
        "            date = datetime.strptime(date_str, '%B %d, %Y')\n",
        "            dow = date.strftime('%A')\n",
        "\n",
        "            data.append({'date': date, 'dow': dow, 'text': description})\n",
        "        except ValueError:\n",
        "            # Skip rows with invalid date format\n",
        "            continue\n",
        "\n",
        "# Create DataFrame from the cleaned data\n",
        "df = pd.DataFrame(data).set_index('date')\n",
        "\n",
        "# Display the DataFrame\n",
        "print(df)\n"
      ]
    }
  ]
}