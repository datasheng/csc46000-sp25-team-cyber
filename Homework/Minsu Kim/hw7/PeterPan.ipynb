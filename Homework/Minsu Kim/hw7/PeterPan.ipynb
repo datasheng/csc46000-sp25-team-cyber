{
  "cells": [
    {
      "metadata": {
        "dc": {
          "key": "3"
        },
        "deletable": false,
        "editable": false,
        "run_control": {
          "frozen": true
        },
        "tags": [
          "context"
        ],
        "id": "bKc_tJW5gAgh"
      },
      "cell_type": "markdown",
      "source": [
        "## # Introduction\n",
        "<p><img src=\"https://assets.datacamp.com/production/project_1010/img/book_cover.jpg\" alt=\"The book cover of Peter and Wendy\" style=\"width:183;height:253px;\"></p>\n",
        "<h3 id=\"flyawaywithpeterpan\">Fly away with Peter Pan!</h3>\n",
        "<p>Peter Pan has been the companion of many children, and went a long way, starting as a Christmas play and ending up as a Disney classic. Did you know that although the play was titled \"Peter Pan, Or The Boy Who Wouldn't Grow Up\", J. M. Barrie's novel was actually titled \"Peter and Wendy\"? </p>\n",
        "<p>You're going to explore and analyze Peter Pan's text to answer the question in the instruction pane below. You are working with the text version available here at <a href=\"https://www.gutenberg.org/files/16/16-h/16-h.htm\">Project Gutenberg</a>. Feel free to add as many cells as necessary. Finally, remember that you are only tested on your answer, not on the methods you use to arrive at the answer!</p>\n",
        "<p><strong>Note:</strong> If you haven't completed a DataCamp project before you should check out the <a href=\"https://projects.datacamp.com/projects/33\">Intro to Projects</a> first to learn about the interface. <a href=\"https://www.datacamp.com/courses/intermediate-importing-data-in-python\">Intermediate Importing Data in Python</a> and <a href=\"https://www.datacamp.com/courses/introduction-to-natural-language-processing-in-python\">Introduction to Natural Language Processing in Python</a> teach the skills required to complete this project. Should you decide to use them, English stopwords have been downloaded from <code>nltk</code> and are available for you in your environment.</p>"
      ]
    },
    {
      "metadata": {
        "dc": {
          "key": "3"
        },
        "tags": [
          "sample_code"
        ],
        "trusted": true,
        "id": "QLNJup_MgAgj"
      },
      "cell_type": "code",
      "source": [
        "#Task 1: Import libraries\n",
        "import requests                  # To get objects from the web\n",
        "import nltk                      # To manipulate text data\n",
        "from bs4 import BeautifulSoup    # To manipulate HTML code\n",
        "from collections import Counter  # To count words\n"
      ],
      "execution_count": 13,
      "outputs": []
    },
    {
      "metadata": {
        "dc": {
          "key": "3"
        },
        "trusted": true,
        "collapsed": true,
        "id": "44mCDh2igAgn"
      },
      "cell_type": "code",
      "source": [
        "#Task 2: Get HTML\n",
        "# Request HTML response from website\n",
        "r = requests.get(\"https://www.gutenberg.org/files/16/16-h/16-h.htm\")\n",
        "\n",
        "# Set the response encoding to utf-8\n",
        "r.encoding = 'utf-8'\n",
        "\n",
        "# Get HTML code from response\n",
        "html = r.text\n",
        "\n"
      ],
      "execution_count": 14,
      "outputs": []
    },
    {
      "metadata": {
        "dc": {
          "key": "3"
        },
        "trusted": true,
        "collapsed": true,
        "id": "mvK6VVkMgAgo"
      },
      "cell_type": "code",
      "source": [
        "# Task 3: Get text\n",
        "# Convert to Unicode\n",
        "soup = BeautifulSoup(html)\n",
        "\n",
        "# Extract text\n",
        "text = soup.text"
      ],
      "execution_count": 15,
      "outputs": []
    },
    {
      "metadata": {
        "dc": {
          "key": "3"
        },
        "trusted": true,
        "collapsed": true,
        "id": "R7IltF-kgAgo"
      },
      "cell_type": "code",
      "source": [
        "# Task 4: Get words\n",
        "# Create tokenizer\n",
        "tokenizer = nltk.tokenize.RegexpTokenizer(\"\\w+\")\n",
        "\n",
        "# Tokenize text\n",
        "tokens = tokenizer.tokenize(text)"
      ],
      "execution_count": 16,
      "outputs": []
    },
    {
      "metadata": {
        "dc": {
          "key": "3"
        },
        "trusted": true,
        "collapsed": true,
        "id": "ENJc46ZzgAgp"
      },
      "cell_type": "code",
      "source": [
        "# Task 5: Lowercase\n",
        "# Lowercase tokens\n",
        "words = [token.lower() for token in tokens]"
      ],
      "execution_count": 17,
      "outputs": []
    },
    {
      "metadata": {
        "dc": {
          "key": "3"
        },
        "trusted": true,
        "collapsed": true,
        "colab": {
          "base_uri": "https://localhost:8080/"
        },
        "id": "nnFF8kougAgp",
        "outputId": "622294de-6992-4b2e-b1b5-87f2690876d1"
      },
      "cell_type": "code",
      "source": [
        "# Task 6: Load stopwords\n",
        "# Download stopwords\n",
        "nltk.download('stopwords')\n",
        "# Make a list of stop words\n",
        "stop_words = nltk.corpus.stopwords.words(\"english\")\n"
      ],
      "execution_count": 23,
      "outputs": [
        {
          "output_type": "stream",
          "name": "stderr",
          "text": [
            "[nltk_data] Downloading package stopwords to /root/nltk_data...\n",
            "[nltk_data]   Package stopwords is already up-to-date!\n"
          ]
        }
      ]
    },
    {
      "metadata": {
        "dc": {
          "key": "3"
        },
        "trusted": true,
        "collapsed": true,
        "id": "SAWEcAa6gAgp"
      },
      "cell_type": "code",
      "source": [
        "# Task 7: Remove stopwords\n",
        "# Remove stopwords from tokens list\n",
        "words_clean = [word for word in words if word not in stop_words]\n"
      ],
      "execution_count": 19,
      "outputs": []
    },
    {
      "metadata": {
        "dc": {
          "key": "3"
        },
        "trusted": true,
        "collapsed": true,
        "id": "cjoBWI3VgAgp"
      },
      "cell_type": "code",
      "source": [
        "# Task 8: Count words\n",
        "# Get count dictionary\n",
        "count = Counter(words_clean)"
      ],
      "execution_count": 20,
      "outputs": []
    },
    {
      "metadata": {
        "dc": {
          "key": "3"
        },
        "trusted": true,
        "collapsed": true,
        "id": "gbTnXdE2gAgp"
      },
      "cell_type": "code",
      "source": [
        "# Get top 10 most common words\n",
        "top_ten = count.most_common(10)\n"
      ],
      "execution_count": 21,
      "outputs": []
    },
    {
      "metadata": {
        "dc": {
          "key": "3"
        },
        "trusted": true,
        "collapsed": true,
        "id": "kN31yJQugAgq"
      },
      "cell_type": "code",
      "source": [
        "# Task 9: Declare protagonists\n",
        "protagonists = [\"hook\", \"john\", \"peter\", \"wendy\"]"
      ],
      "execution_count": 22,
      "outputs": []
    },
    {
      "metadata": {
        "dc": {
          "key": "3"
        },
        "trusted": true,
        "collapsed": true,
        "id": "df257aTpgAgq"
      },
      "cell_type": "code",
      "source": [],
      "execution_count": null,
      "outputs": []
    }
  ],
  "metadata": {
    "kernelspec": {
      "name": "python3",
      "display_name": "Python 3",
      "language": "python"
    },
    "language_info": {
      "name": "python",
      "version": "3.6.7",
      "mimetype": "text/x-python",
      "codemirror_mode": {
        "name": "ipython",
        "version": 3
      },
      "pygments_lexer": "ipython3",
      "nbconvert_exporter": "python",
      "file_extension": ".py"
    },
    "colab": {
      "provenance": []
    }
  },
  "nbformat": 4,
  "nbformat_minor": 0
}